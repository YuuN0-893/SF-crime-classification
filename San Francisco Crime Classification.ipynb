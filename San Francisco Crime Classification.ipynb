{
 "cells": [
  {
   "cell_type": "markdown",
   "metadata": {},
   "source": [
    "# "
   ]
  },
  {
   "cell_type": "markdown",
   "metadata": {},
   "source": [
    "# San Francisco Crime Classification\n",
    "\n",
    "Predict the category of crimes that occurred in the city by the bay\n",
    "\n",
    "This dataset contains incidents derived from SFPD Crime Incident Reporting system. The data ranges from 1/1/2003 to 5/13/2015.  \n",
    "\n",
    "Data fields: \n",
    "* Dates - timestamp of the crime incident\n",
    "* Category - category of the crime incident (only in train.csv). This is the target variable you are going to predict.\n",
    "* Descript - detailed description of the crime incident (only in train.csv)\n",
    "* DayOfWeek - the day of the week\n",
    "* PdDistrict - name of the Police Department District\n",
    "* Resolution - how the crime incident was resolved (only in train.csv)\n",
    "* Address - the approximate street address of the crime incident \n",
    "* X - Longitude\n",
    "* Y - Latitude\n",
    "\n",
    "Orginal Dataset: https://www.kaggle.com/c/sf-crime/data"
   ]
  },
  {
   "cell_type": "code",
   "execution_count": 1,
   "metadata": {},
   "outputs": [],
   "source": [
    "import pandas as pd\n",
    "import matplotlib.pyplot as plt\n",
    "import seaborn as sns\n",
    "\n",
    "from pyspark.sql import SQLContext, SparkSession\n",
    "spark = SparkSession.Builder().appName('Project').getOrCreate()"
   ]
  },
  {
   "cell_type": "code",
   "execution_count": 2,
   "metadata": {},
   "outputs": [],
   "source": [
    "from pyspark.sql.functions import count, countDistinct, length, hour, year, month, date_format, desc, dayofweek, col \n",
    "from pyspark.sql import functions as F"
   ]
  },
  {
   "cell_type": "markdown",
   "metadata": {},
   "source": [
    "### Sampling of the original dataset"
   ]
  },
  {
   "cell_type": "code",
   "execution_count": 3,
   "metadata": {},
   "outputs": [],
   "source": [
    "# import pandas as pd\n",
    "\n",
    "# lst_filter = [\n",
    "#  'ASSAULT',\n",
    "#  'DRUG/NARCOTIC',\n",
    "#  'VEHICLE THEFT',\n",
    "#  'VANDALISM']\n",
    "\n",
    "# df_dataset = pd.read_csv(\"train.csv\", header='infer')\n",
    "# print(\"Orginal size\", len(df_dataset))\n",
    "# df_dataset = df_dataset[df_dataset[\"Category\"].isin(lst_filter)] \n",
    "# print(\"After filter size\", len(df_dataset))\n",
    "# df_sample = df_dataset.sample(n=50000, random_state=4, replace=False)\n",
    "# print(\"After sample\", len(df_sample))\n",
    "# df_sample.to_csv(\"crimes_sf.csv\", index=False)\n"
   ]
  },
  {
   "cell_type": "markdown",
   "metadata": {},
   "source": [
    "## Part 1. Data Exploration"
   ]
  },
  {
   "cell_type": "markdown",
   "metadata": {},
   "source": [
    "Q. Read the csv \"crimes_sf.csv\" as a PySpark DataFrame"
   ]
  },
  {
   "cell_type": "code",
   "execution_count": 4,
   "metadata": {},
   "outputs": [],
   "source": [
    "file = 'crimes_sf.csv'\n",
    "df_crimes = spark.read.csv(file, header = True, inferSchema = True)\n"
   ]
  },
  {
   "cell_type": "markdown",
   "metadata": {},
   "source": [
    "Q. Show the first 5 rows in the file"
   ]
  },
  {
   "cell_type": "code",
   "execution_count": 5,
   "metadata": {},
   "outputs": [
    {
     "name": "stdout",
     "output_type": "stream",
     "text": [
      "+-------------------+---------+--------------------+---------+----------+--------------+--------------------+-----------------+------------------+\n",
      "|              Dates| Category|            Descript|DayOfWeek|PdDistrict|    Resolution|             Address|                X|                 Y|\n",
      "+-------------------+---------+--------------------+---------+----------+--------------+--------------------+-----------------+------------------+\n",
      "|2005-05-31 13:30:00|  ASSAULT|AGGRAVATED ASSAUL...|  Tuesday|   MISSION|ARREST, BOOKED|2300 Block of FOL...| -122.41469551481|  37.7596861764245|\n",
      "|2011-05-22 22:00:00|  ASSAULT|CHILD, INFLICTING...|   Sunday|   TARAVAL|ARREST, BOOKED|200 Block of SANT...|-122.462826575708|  37.7361073849138|\n",
      "|2005-11-14 13:00:00|  ASSAULT|             BATTERY|   Monday|   MISSION|          NONE|500 Block of LIBE...|-122.433540925286|  37.7570071557685|\n",
      "|2012-02-24 05:03:00|  ASSAULT|AGGRAVATED ASSAUL...|   Friday|TENDERLOIN|          NONE|   HYDE ST / EDDY ST|-122.415885065788|37.783516056415294|\n",
      "|2009-11-25 23:50:00|VANDALISM|MALICIOUS MISCHIE...|Wednesday|   BAYVIEW|          NONE|3RD ST / WILLIAMS AV|-122.392625489263| 37.72928044321751|\n",
      "+-------------------+---------+--------------------+---------+----------+--------------+--------------------+-----------------+------------------+\n",
      "only showing top 5 rows\n",
      "\n"
     ]
    }
   ],
   "source": [
    "df_crimes.show(5)"
   ]
  },
  {
   "cell_type": "markdown",
   "metadata": {},
   "source": [
    "Q. Convert only the first 5 rows into a pandas dataframe"
   ]
  },
  {
   "cell_type": "code",
   "execution_count": 6,
   "metadata": {},
   "outputs": [
    {
     "data": {
      "text/html": [
       "<div>\n",
       "<style scoped>\n",
       "    .dataframe tbody tr th:only-of-type {\n",
       "        vertical-align: middle;\n",
       "    }\n",
       "\n",
       "    .dataframe tbody tr th {\n",
       "        vertical-align: top;\n",
       "    }\n",
       "\n",
       "    .dataframe thead th {\n",
       "        text-align: right;\n",
       "    }\n",
       "</style>\n",
       "<table border=\"1\" class=\"dataframe\">\n",
       "  <thead>\n",
       "    <tr style=\"text-align: right;\">\n",
       "      <th></th>\n",
       "      <th>Dates</th>\n",
       "      <th>Category</th>\n",
       "      <th>Descript</th>\n",
       "      <th>DayOfWeek</th>\n",
       "      <th>PdDistrict</th>\n",
       "      <th>Resolution</th>\n",
       "      <th>Address</th>\n",
       "      <th>X</th>\n",
       "      <th>Y</th>\n",
       "    </tr>\n",
       "  </thead>\n",
       "  <tbody>\n",
       "    <tr>\n",
       "      <th>0</th>\n",
       "      <td>2005-05-31 13:30:00</td>\n",
       "      <td>ASSAULT</td>\n",
       "      <td>AGGRAVATED ASSAULT WITH A DEADLY WEAPON</td>\n",
       "      <td>Tuesday</td>\n",
       "      <td>MISSION</td>\n",
       "      <td>ARREST, BOOKED</td>\n",
       "      <td>2300 Block of FOLSOM ST</td>\n",
       "      <td>-122.414696</td>\n",
       "      <td>37.759686</td>\n",
       "    </tr>\n",
       "    <tr>\n",
       "      <th>1</th>\n",
       "      <td>2011-05-22 22:00:00</td>\n",
       "      <td>ASSAULT</td>\n",
       "      <td>CHILD, INFLICTING INJURY RESULTING IN TRAUMATI...</td>\n",
       "      <td>Sunday</td>\n",
       "      <td>TARAVAL</td>\n",
       "      <td>ARREST, BOOKED</td>\n",
       "      <td>200 Block of SANTAPAULA AV</td>\n",
       "      <td>-122.462827</td>\n",
       "      <td>37.736107</td>\n",
       "    </tr>\n",
       "    <tr>\n",
       "      <th>2</th>\n",
       "      <td>2005-11-14 13:00:00</td>\n",
       "      <td>ASSAULT</td>\n",
       "      <td>BATTERY</td>\n",
       "      <td>Monday</td>\n",
       "      <td>MISSION</td>\n",
       "      <td>NONE</td>\n",
       "      <td>500 Block of LIBERTY ST</td>\n",
       "      <td>-122.433541</td>\n",
       "      <td>37.757007</td>\n",
       "    </tr>\n",
       "    <tr>\n",
       "      <th>3</th>\n",
       "      <td>2012-02-24 05:03:00</td>\n",
       "      <td>ASSAULT</td>\n",
       "      <td>AGGRAVATED ASSAULT WITH A DEADLY WEAPON</td>\n",
       "      <td>Friday</td>\n",
       "      <td>TENDERLOIN</td>\n",
       "      <td>NONE</td>\n",
       "      <td>HYDE ST / EDDY ST</td>\n",
       "      <td>-122.415885</td>\n",
       "      <td>37.783516</td>\n",
       "    </tr>\n",
       "    <tr>\n",
       "      <th>4</th>\n",
       "      <td>2009-11-25 23:50:00</td>\n",
       "      <td>VANDALISM</td>\n",
       "      <td>MALICIOUS MISCHIEF, VANDALISM</td>\n",
       "      <td>Wednesday</td>\n",
       "      <td>BAYVIEW</td>\n",
       "      <td>NONE</td>\n",
       "      <td>3RD ST / WILLIAMS AV</td>\n",
       "      <td>-122.392625</td>\n",
       "      <td>37.729280</td>\n",
       "    </tr>\n",
       "  </tbody>\n",
       "</table>\n",
       "</div>"
      ],
      "text/plain": [
       "                 Dates   Category  \\\n",
       "0  2005-05-31 13:30:00    ASSAULT   \n",
       "1  2011-05-22 22:00:00    ASSAULT   \n",
       "2  2005-11-14 13:00:00    ASSAULT   \n",
       "3  2012-02-24 05:03:00    ASSAULT   \n",
       "4  2009-11-25 23:50:00  VANDALISM   \n",
       "\n",
       "                                            Descript  DayOfWeek  PdDistrict  \\\n",
       "0            AGGRAVATED ASSAULT WITH A DEADLY WEAPON    Tuesday     MISSION   \n",
       "1  CHILD, INFLICTING INJURY RESULTING IN TRAUMATI...     Sunday     TARAVAL   \n",
       "2                                            BATTERY     Monday     MISSION   \n",
       "3            AGGRAVATED ASSAULT WITH A DEADLY WEAPON     Friday  TENDERLOIN   \n",
       "4                      MALICIOUS MISCHIEF, VANDALISM  Wednesday     BAYVIEW   \n",
       "\n",
       "       Resolution                     Address           X          Y  \n",
       "0  ARREST, BOOKED     2300 Block of FOLSOM ST -122.414696  37.759686  \n",
       "1  ARREST, BOOKED  200 Block of SANTAPAULA AV -122.462827  37.736107  \n",
       "2            NONE     500 Block of LIBERTY ST -122.433541  37.757007  \n",
       "3            NONE           HYDE ST / EDDY ST -122.415885  37.783516  \n",
       "4            NONE        3RD ST / WILLIAMS AV -122.392625  37.729280  "
      ]
     },
     "execution_count": 6,
     "metadata": {},
     "output_type": "execute_result"
    }
   ],
   "source": [
    "df_crimes.limit(5).toPandas()"
   ]
  },
  {
   "cell_type": "markdown",
   "metadata": {},
   "source": [
    "Q. Verify the column schema of the dataframe using printSchema"
   ]
  },
  {
   "cell_type": "code",
   "execution_count": 7,
   "metadata": {},
   "outputs": [
    {
     "name": "stdout",
     "output_type": "stream",
     "text": [
      "root\n",
      " |-- Dates: string (nullable = true)\n",
      " |-- Category: string (nullable = true)\n",
      " |-- Descript: string (nullable = true)\n",
      " |-- DayOfWeek: string (nullable = true)\n",
      " |-- PdDistrict: string (nullable = true)\n",
      " |-- Resolution: string (nullable = true)\n",
      " |-- Address: string (nullable = true)\n",
      " |-- X: double (nullable = true)\n",
      " |-- Y: double (nullable = true)\n",
      "\n"
     ]
    }
   ],
   "source": [
    "df_crimes.printSchema()"
   ]
  },
  {
   "cell_type": "markdown",
   "metadata": {},
   "source": [
    "Q. Rename the columns \"X\" and \"Y\" to \"Lng\" and \"Lat\" respectively"
   ]
  },
  {
   "cell_type": "code",
   "execution_count": 8,
   "metadata": {},
   "outputs": [],
   "source": [
    "df_crimes = df_crimes.withColumnRenamed(\"X\",\"Lng\").withColumnRenamed(\"Y\",\"Lat\")\n"
   ]
  },
  {
   "cell_type": "markdown",
   "metadata": {},
   "source": [
    "Q. Count the number of distinct crime categories"
   ]
  },
  {
   "cell_type": "code",
   "execution_count": 9,
   "metadata": {
    "scrolled": true
   },
   "outputs": [
    {
     "name": "stdout",
     "output_type": "stream",
     "text": [
      "+------------------------+\n",
      "|count(DISTINCT Category)|\n",
      "+------------------------+\n",
      "|                       4|\n",
      "+------------------------+\n",
      "\n"
     ]
    }
   ],
   "source": [
    "df_crimes.select(countDistinct(\"Category\")).show()"
   ]
  },
  {
   "cell_type": "markdown",
   "metadata": {},
   "source": [
    "Q. Show all the Category values in the dataset"
   ]
  },
  {
   "cell_type": "code",
   "execution_count": 10,
   "metadata": {},
   "outputs": [
    {
     "name": "stdout",
     "output_type": "stream",
     "text": [
      "+-------------+\n",
      "|     Category|\n",
      "+-------------+\n",
      "|      ASSAULT|\n",
      "|    VANDALISM|\n",
      "|DRUG/NARCOTIC|\n",
      "|VEHICLE THEFT|\n",
      "+-------------+\n",
      "\n"
     ]
    }
   ],
   "source": [
    "df_crimes.select(\"Category\").distinct().show()"
   ]
  },
  {
   "cell_type": "markdown",
   "metadata": {},
   "source": [
    "Q. Compute the number of crimes in the NORTHERN PdDistrict"
   ]
  },
  {
   "cell_type": "code",
   "execution_count": 11,
   "metadata": {},
   "outputs": [
    {
     "data": {
      "text/plain": [
       "5354"
      ]
     },
     "execution_count": 11,
     "metadata": {},
     "output_type": "execute_result"
    }
   ],
   "source": [
    "df_crimes.filter(df_crimes[\"PdDistrict\"] == \"NORTHERN\").count()"
   ]
  },
  {
   "cell_type": "code",
   "execution_count": 12,
   "metadata": {},
   "outputs": [
    {
     "data": {
      "text/plain": [
       "5354"
      ]
     },
     "execution_count": 12,
     "metadata": {},
     "output_type": "execute_result"
    }
   ],
   "source": [
    "df_crimes.where(df_crimes.PdDistrict == \"NORTHERN\").count()\n"
   ]
  },
  {
   "cell_type": "markdown",
   "metadata": {},
   "source": [
    "Q. Frequency distribution of crimes by category"
   ]
  },
  {
   "cell_type": "code",
   "execution_count": 13,
   "metadata": {},
   "outputs": [],
   "source": [
    "category_counts = df_crimes\\\n",
    "                    .groupBy(\"Category\")\\\n",
    "                    .agg(count(\"Category\").alias(\"crime_count_per_category\"))\\\n",
    "                    .orderBy(desc(\"crime_count_per_category\")).toPandas()\n"
   ]
  },
  {
   "cell_type": "code",
   "execution_count": 14,
   "metadata": {},
   "outputs": [
    {
     "data": {
      "text/plain": [
       "<matplotlib.axes._subplots.AxesSubplot at 0x7fcd6070d610>"
      ]
     },
     "execution_count": 14,
     "metadata": {},
     "output_type": "execute_result"
    },
    {
     "data": {
      "image/png": "[encoded data removed]",
      "text/plain": [
       "<Figure size 432x288 with 1 Axes>"
      ]
     },
     "metadata": {
      "needs_background": "light"
     },
     "output_type": "display_data"
    }
   ],
   "source": [
    "category_counts.set_index(keys=[\"Category\"]).plot(kind=\"bar\")"
   ]
  },
  {
   "cell_type": "markdown",
   "metadata": {},
   "source": [
    "Q. Create the columns hour, month and year based on the column Dates"
   ]
  },
  {
   "cell_type": "code",
   "execution_count": 15,
   "metadata": {},
   "outputs": [
    {
     "data": {
      "text/html": [
       "<div>\n",
       "<style scoped>\n",
       "    .dataframe tbody tr th:only-of-type {\n",
       "        vertical-align: middle;\n",
       "    }\n",
       "\n",
       "    .dataframe tbody tr th {\n",
       "        vertical-align: top;\n",
       "    }\n",
       "\n",
       "    .dataframe thead th {\n",
       "        text-align: right;\n",
       "    }\n",
       "</style>\n",
       "<table border=\"1\" class=\"dataframe\">\n",
       "  <thead>\n",
       "    <tr style=\"text-align: right;\">\n",
       "      <th></th>\n",
       "      <th>Dates</th>\n",
       "      <th>Category</th>\n",
       "      <th>Descript</th>\n",
       "      <th>DayOfWeek</th>\n",
       "      <th>PdDistrict</th>\n",
       "      <th>Resolution</th>\n",
       "      <th>Address</th>\n",
       "      <th>Lng</th>\n",
       "      <th>Lat</th>\n",
       "    </tr>\n",
       "  </thead>\n",
       "  <tbody>\n",
       "    <tr>\n",
       "      <th>0</th>\n",
       "      <td>2005-05-31 13:30:00</td>\n",
       "      <td>ASSAULT</td>\n",
       "      <td>AGGRAVATED ASSAULT WITH A DEADLY WEAPON</td>\n",
       "      <td>Tuesday</td>\n",
       "      <td>MISSION</td>\n",
       "      <td>ARREST, BOOKED</td>\n",
       "      <td>2300 Block of FOLSOM ST</td>\n",
       "      <td>-122.414696</td>\n",
       "      <td>37.759686</td>\n",
       "    </tr>\n",
       "    <tr>\n",
       "      <th>1</th>\n",
       "      <td>2011-05-22 22:00:00</td>\n",
       "      <td>ASSAULT</td>\n",
       "      <td>CHILD, INFLICTING INJURY RESULTING IN TRAUMATI...</td>\n",
       "      <td>Sunday</td>\n",
       "      <td>TARAVAL</td>\n",
       "      <td>ARREST, BOOKED</td>\n",
       "      <td>200 Block of SANTAPAULA AV</td>\n",
       "      <td>-122.462827</td>\n",
       "      <td>37.736107</td>\n",
       "    </tr>\n",
       "    <tr>\n",
       "      <th>2</th>\n",
       "      <td>2005-11-14 13:00:00</td>\n",
       "      <td>ASSAULT</td>\n",
       "      <td>BATTERY</td>\n",
       "      <td>Monday</td>\n",
       "      <td>MISSION</td>\n",
       "      <td>NONE</td>\n",
       "      <td>500 Block of LIBERTY ST</td>\n",
       "      <td>-122.433541</td>\n",
       "      <td>37.757007</td>\n",
       "    </tr>\n",
       "    <tr>\n",
       "      <th>3</th>\n",
       "      <td>2012-02-24 05:03:00</td>\n",
       "      <td>ASSAULT</td>\n",
       "      <td>AGGRAVATED ASSAULT WITH A DEADLY WEAPON</td>\n",
       "      <td>Friday</td>\n",
       "      <td>TENDERLOIN</td>\n",
       "      <td>NONE</td>\n",
       "      <td>HYDE ST / EDDY ST</td>\n",
       "      <td>-122.415885</td>\n",
       "      <td>37.783516</td>\n",
       "    </tr>\n",
       "    <tr>\n",
       "      <th>4</th>\n",
       "      <td>2009-11-25 23:50:00</td>\n",
       "      <td>VANDALISM</td>\n",
       "      <td>MALICIOUS MISCHIEF, VANDALISM</td>\n",
       "      <td>Wednesday</td>\n",
       "      <td>BAYVIEW</td>\n",
       "      <td>NONE</td>\n",
       "      <td>3RD ST / WILLIAMS AV</td>\n",
       "      <td>-122.392625</td>\n",
       "      <td>37.729280</td>\n",
       "    </tr>\n",
       "  </tbody>\n",
       "</table>\n",
       "</div>"
      ],
      "text/plain": [
       "                 Dates   Category  \\\n",
       "0  2005-05-31 13:30:00    ASSAULT   \n",
       "1  2011-05-22 22:00:00    ASSAULT   \n",
       "2  2005-11-14 13:00:00    ASSAULT   \n",
       "3  2012-02-24 05:03:00    ASSAULT   \n",
       "4  2009-11-25 23:50:00  VANDALISM   \n",
       "\n",
       "                                            Descript  DayOfWeek  PdDistrict  \\\n",
       "0            AGGRAVATED ASSAULT WITH A DEADLY WEAPON    Tuesday     MISSION   \n",
       "1  CHILD, INFLICTING INJURY RESULTING IN TRAUMATI...     Sunday     TARAVAL   \n",
       "2                                            BATTERY     Monday     MISSION   \n",
       "3            AGGRAVATED ASSAULT WITH A DEADLY WEAPON     Friday  TENDERLOIN   \n",
       "4                      MALICIOUS MISCHIEF, VANDALISM  Wednesday     BAYVIEW   \n",
       "\n",
       "       Resolution                     Address         Lng        Lat  \n",
       "0  ARREST, BOOKED     2300 Block of FOLSOM ST -122.414696  37.759686  \n",
       "1  ARREST, BOOKED  200 Block of SANTAPAULA AV -122.462827  37.736107  \n",
       "2            NONE     500 Block of LIBERTY ST -122.433541  37.757007  \n",
       "3            NONE           HYDE ST / EDDY ST -122.415885  37.783516  \n",
       "4            NONE        3RD ST / WILLIAMS AV -122.392625  37.729280  "
      ]
     },
     "execution_count": 15,
     "metadata": {},
     "output_type": "execute_result"
    }
   ],
   "source": [
    "df_crimes.limit(5).select(\"*\").toPandas()"
   ]
  },
  {
   "cell_type": "code",
   "execution_count": 16,
   "metadata": {},
   "outputs": [
    {
     "name": "stdout",
     "output_type": "stream",
     "text": [
      "root\n",
      " |-- Dates: string (nullable = true)\n",
      " |-- Category: string (nullable = true)\n",
      " |-- Descript: string (nullable = true)\n",
      " |-- DayOfWeek: string (nullable = true)\n",
      " |-- PdDistrict: string (nullable = true)\n",
      " |-- Resolution: string (nullable = true)\n",
      " |-- Address: string (nullable = true)\n",
      " |-- Lng: double (nullable = true)\n",
      " |-- Lat: double (nullable = true)\n",
      " |-- Hour: integer (nullable = true)\n",
      " |-- Month: string (nullable = true)\n",
      " |-- Year: integer (nullable = true)\n",
      "\n"
     ]
    }
   ],
   "source": [
    "df_crimes = df_crimes.withColumn(\"Hour\", hour(\"Dates\"))\\\n",
    "                     .withColumn(\"Month\", date_format(\"Dates\", \"MM\"))\\\n",
    "                     .withColumn(\"Year\", year(\"Dates\")) \n",
    "\n",
    "df_crimes.printSchema()"
   ]
  },
  {
   "cell_type": "markdown",
   "metadata": {},
   "source": [
    "Q. Min and Max dates of the crimes in the dataset"
   ]
  },
  {
   "cell_type": "code",
   "execution_count": 17,
   "metadata": {},
   "outputs": [
    {
     "name": "stdout",
     "output_type": "stream",
     "text": [
      "+-------------------+-------------------+\n",
      "|         min(Dates)|         max(Dates)|\n",
      "+-------------------+-------------------+\n",
      "|2003-01-06 01:30:00|2015-05-13 19:28:00|\n",
      "+-------------------+-------------------+\n",
      "\n"
     ]
    }
   ],
   "source": [
    "df_crimes.select(F.min(\"Dates\"),F.max(\"Dates\")).limit(4).show()"
   ]
  },
  {
   "cell_type": "markdown",
   "metadata": {},
   "source": [
    "Q. Visualize crime occurances over the months for the crimes of ASSAULT and VANDALISM. "
   ]
  },
  {
   "cell_type": "code",
   "execution_count": 18,
   "metadata": {},
   "outputs": [
    {
     "data": {
      "text/plain": [
       "<matplotlib.axes._subplots.AxesSubplot at 0x7fcd6060d6a0>"
      ]
     },
     "execution_count": 18,
     "metadata": {},
     "output_type": "execute_result"
    },
    {
     "data": {
      "image/png": "[encoded data removed]",
      "text/plain": [
       "<Figure size 432x288 with 1 Axes>"
      ]
     },
     "metadata": {
      "needs_background": "light"
     },
     "output_type": "display_data"
    }
   ],
   "source": [
    "crimes_over_month = df_crimes.filter((df_crimes.Category==\"ASSAULT\") | (df_crimes.Category==\"VANDALISM\"))\\\n",
    "            .groupBy([\"Month\", \"Category\"])\\\n",
    "            .agg(count(\"Category\").alias(\"Count\"))\\\n",
    "            .sort(col(\"Month\").asc()) \n",
    "\n",
    "df = crimes_over_month.toPandas()\n",
    "d = {\n",
    "    \"Assault\": df[df[\"Category\"]==\"ASSAULT\"][\"Count\"].to_list(),\n",
    "    \"Vandalism\": df[df[\"Category\"]==\"VANDALISM\"][\"Count\"].to_list()\n",
    "}\n",
    "pd.DataFrame(d, index=df[\"Month\"].unique()).plot()\n",
    "\n"
   ]
  },
  {
   "cell_type": "code",
   "execution_count": 19,
   "metadata": {},
   "outputs": [
    {
     "data": {
      "text/html": [
       "<div>\n",
       "<style scoped>\n",
       "    .dataframe tbody tr th:only-of-type {\n",
       "        vertical-align: middle;\n",
       "    }\n",
       "\n",
       "    .dataframe tbody tr th {\n",
       "        vertical-align: top;\n",
       "    }\n",
       "\n",
       "    .dataframe thead th {\n",
       "        text-align: right;\n",
       "    }\n",
       "</style>\n",
       "<table border=\"1\" class=\"dataframe\">\n",
       "  <thead>\n",
       "    <tr style=\"text-align: right;\">\n",
       "      <th></th>\n",
       "      <th>Month</th>\n",
       "      <th>Category</th>\n",
       "      <th>Count</th>\n",
       "    </tr>\n",
       "  </thead>\n",
       "  <tbody>\n",
       "    <tr>\n",
       "      <th>0</th>\n",
       "      <td>01</td>\n",
       "      <td>VANDALISM</td>\n",
       "      <td>762</td>\n",
       "    </tr>\n",
       "    <tr>\n",
       "      <th>1</th>\n",
       "      <td>01</td>\n",
       "      <td>ASSAULT</td>\n",
       "      <td>1388</td>\n",
       "    </tr>\n",
       "    <tr>\n",
       "      <th>2</th>\n",
       "      <td>02</td>\n",
       "      <td>ASSAULT</td>\n",
       "      <td>1309</td>\n",
       "    </tr>\n",
       "    <tr>\n",
       "      <th>3</th>\n",
       "      <td>02</td>\n",
       "      <td>VANDALISM</td>\n",
       "      <td>760</td>\n",
       "    </tr>\n",
       "    <tr>\n",
       "      <th>4</th>\n",
       "      <td>03</td>\n",
       "      <td>VANDALISM</td>\n",
       "      <td>856</td>\n",
       "    </tr>\n",
       "    <tr>\n",
       "      <th>5</th>\n",
       "      <td>03</td>\n",
       "      <td>ASSAULT</td>\n",
       "      <td>1423</td>\n",
       "    </tr>\n",
       "    <tr>\n",
       "      <th>6</th>\n",
       "      <td>04</td>\n",
       "      <td>ASSAULT</td>\n",
       "      <td>1499</td>\n",
       "    </tr>\n",
       "    <tr>\n",
       "      <th>7</th>\n",
       "      <td>04</td>\n",
       "      <td>VANDALISM</td>\n",
       "      <td>888</td>\n",
       "    </tr>\n",
       "    <tr>\n",
       "      <th>8</th>\n",
       "      <td>05</td>\n",
       "      <td>VANDALISM</td>\n",
       "      <td>863</td>\n",
       "    </tr>\n",
       "    <tr>\n",
       "      <th>9</th>\n",
       "      <td>05</td>\n",
       "      <td>ASSAULT</td>\n",
       "      <td>1581</td>\n",
       "    </tr>\n",
       "  </tbody>\n",
       "</table>\n",
       "</div>"
      ],
      "text/plain": [
       "  Month   Category  Count\n",
       "0    01  VANDALISM    762\n",
       "1    01    ASSAULT   1388\n",
       "2    02    ASSAULT   1309\n",
       "3    02  VANDALISM    760\n",
       "4    03  VANDALISM    856\n",
       "5    03    ASSAULT   1423\n",
       "6    04    ASSAULT   1499\n",
       "7    04  VANDALISM    888\n",
       "8    05  VANDALISM    863\n",
       "9    05    ASSAULT   1581"
      ]
     },
     "execution_count": 19,
     "metadata": {},
     "output_type": "execute_result"
    }
   ],
   "source": [
    "crimes_over_month.toPandas()[:10]"
   ]
  },
  {
   "cell_type": "markdown",
   "metadata": {},
   "source": [
    "Q. Visualize the crime occurences per each day of the week. Use SQL syntax. "
   ]
  },
  {
   "cell_type": "code",
   "execution_count": 20,
   "metadata": {},
   "outputs": [
    {
     "name": "stdout",
     "output_type": "stream",
     "text": [
      "+---------+-----+\n",
      "|DayOfWeek|count|\n",
      "+---------+-----+\n",
      "|Wednesday| 7246|\n",
      "|  Tuesday| 6851|\n",
      "|   Friday| 7509|\n",
      "| Thursday| 7069|\n",
      "| Saturday| 7393|\n",
      "|   Monday| 6923|\n",
      "|   Sunday| 7009|\n",
      "+---------+-----+\n",
      "\n"
     ]
    }
   ],
   "source": [
    "\n",
    "df_crimes.registerTempTable('crimes')\n",
    "by_dayOfWeek = spark.sql('select DayOfWeek, count(*) as count from crimes group by DayOfWeek limit 10')\n",
    "by_dayOfWeek.show()\n"
   ]
  },
  {
   "cell_type": "markdown",
   "metadata": {},
   "source": [
    "Q. Show the streets with more than 5 \"VEHICLE THEFT\" crimes between the years of 2012 and 2015."
   ]
  },
  {
   "cell_type": "code",
   "execution_count": 21,
   "metadata": {},
   "outputs": [
    {
     "name": "stdout",
     "output_type": "stream",
     "text": [
      "+--------------------+-----+\n",
      "|             Address|count|\n",
      "+--------------------+-----+\n",
      "|200 Block of INTE...|    7|\n",
      "|400 Block of STOC...|   12|\n",
      "+--------------------+-----+\n",
      "\n"
     ]
    }
   ],
   "source": [
    "\n",
    "df_crimes.registerTempTable('crimes')\n",
    "df_query = spark.sql('select Address, count(*) as count \\\n",
    "                            from crimes \\\n",
    "                            where Category == \"VEHICLE THEFT\" and Year between 2012 and 2015 \\\n",
    "                            group by Address \\\n",
    "                            having count(*) > 5 \\\n",
    "                            limit 10')\n",
    "df_query.show()\n"
   ]
  },
  {
   "cell_type": "markdown",
   "metadata": {},
   "source": [
    "Q. Top 10 most frequent words in the crimes description. Hint: convert the Column Descript into a rdd."
   ]
  },
  {
   "cell_type": "code",
   "execution_count": 22,
   "metadata": {},
   "outputs": [
    {
     "data": {
      "text/plain": [
       "[('OF', 15624),\n",
       " ('MALICIOUS', 9637),\n",
       " ('MISCHIEF,', 9531),\n",
       " ('POSSESSION', 9401),\n",
       " ('STOLEN', 9296),\n",
       " ('VANDALISM', 7392),\n",
       " ('BATTERY', 6415),\n",
       " ('AUTOMOBILE', 5907),\n",
       " ('VEHICLES', 3932),\n",
       " ('WITH', 3831)]"
      ]
     },
     "execution_count": 22,
     "metadata": {},
     "output_type": "execute_result"
    }
   ],
   "source": [
    "rdd_descriptions = df_crimes.select(\"Descript\").rdd.map(lambda x: list(x))\n",
    "rdd_descriptions.flatMap(lambda l: [(w,1) for w in l[0].split()]) \\\n",
    "        .reduceByKey(lambda x,y: x+y) \\\n",
    "        .takeOrdered(10, lambda t: -t[1])"
   ]
  },
  {
   "cell_type": "markdown",
   "metadata": {},
   "source": [
    "## Part 2: Training and Predictions\n",
    "\n",
    "\n",
    "*Category* - This is the target variable you are going to predict.\n",
    "\n",
    "Q. Drop the columns *Descript* and *Resolution* from the dataset\n"
   ]
  },
  {
   "cell_type": "code",
   "execution_count": 23,
   "metadata": {},
   "outputs": [],
   "source": [
    "df_crimes = df_crimes.drop('Descript').drop('Resolution')"
   ]
  },
  {
   "cell_type": "code",
   "execution_count": 24,
   "metadata": {},
   "outputs": [
    {
     "name": "stdout",
     "output_type": "stream",
     "text": [
      "root\n",
      " |-- Dates: string (nullable = true)\n",
      " |-- Category: string (nullable = true)\n",
      " |-- DayOfWeek: string (nullable = true)\n",
      " |-- PdDistrict: string (nullable = true)\n",
      " |-- Address: string (nullable = true)\n",
      " |-- Lng: double (nullable = true)\n",
      " |-- Lat: double (nullable = true)\n",
      " |-- Hour: integer (nullable = true)\n",
      " |-- Month: string (nullable = true)\n",
      " |-- Year: integer (nullable = true)\n",
      "\n"
     ]
    }
   ],
   "source": [
    "df_crimes.printSchema()"
   ]
  },
  {
   "cell_type": "markdown",
   "metadata": {},
   "source": [
    "Q. Create a new column called Label by using StringIndexer having as input the Category column"
   ]
  },
  {
   "cell_type": "code",
   "execution_count": 25,
   "metadata": {},
   "outputs": [
    {
     "data": {
      "text/html": [
       "<div>\n",
       "<style scoped>\n",
       "    .dataframe tbody tr th:only-of-type {\n",
       "        vertical-align: middle;\n",
       "    }\n",
       "\n",
       "    .dataframe tbody tr th {\n",
       "        vertical-align: top;\n",
       "    }\n",
       "\n",
       "    .dataframe thead th {\n",
       "        text-align: right;\n",
       "    }\n",
       "</style>\n",
       "<table border=\"1\" class=\"dataframe\">\n",
       "  <thead>\n",
       "    <tr style=\"text-align: right;\">\n",
       "      <th></th>\n",
       "      <th>Dates</th>\n",
       "      <th>Category</th>\n",
       "      <th>DayOfWeek</th>\n",
       "      <th>PdDistrict</th>\n",
       "      <th>Address</th>\n",
       "      <th>Lng</th>\n",
       "      <th>Lat</th>\n",
       "      <th>Hour</th>\n",
       "      <th>Month</th>\n",
       "      <th>Year</th>\n",
       "      <th>label</th>\n",
       "    </tr>\n",
       "  </thead>\n",
       "  <tbody>\n",
       "    <tr>\n",
       "      <th>0</th>\n",
       "      <td>2005-05-31 13:30:00</td>\n",
       "      <td>ASSAULT</td>\n",
       "      <td>Tuesday</td>\n",
       "      <td>MISSION</td>\n",
       "      <td>2300 Block of FOLSOM ST</td>\n",
       "      <td>-122.414696</td>\n",
       "      <td>37.759686</td>\n",
       "      <td>13</td>\n",
       "      <td>05</td>\n",
       "      <td>2005</td>\n",
       "      <td>0.0</td>\n",
       "    </tr>\n",
       "    <tr>\n",
       "      <th>1</th>\n",
       "      <td>2011-05-22 22:00:00</td>\n",
       "      <td>ASSAULT</td>\n",
       "      <td>Sunday</td>\n",
       "      <td>TARAVAL</td>\n",
       "      <td>200 Block of SANTAPAULA AV</td>\n",
       "      <td>-122.462827</td>\n",
       "      <td>37.736107</td>\n",
       "      <td>22</td>\n",
       "      <td>05</td>\n",
       "      <td>2011</td>\n",
       "      <td>0.0</td>\n",
       "    </tr>\n",
       "    <tr>\n",
       "      <th>2</th>\n",
       "      <td>2005-11-14 13:00:00</td>\n",
       "      <td>ASSAULT</td>\n",
       "      <td>Monday</td>\n",
       "      <td>MISSION</td>\n",
       "      <td>500 Block of LIBERTY ST</td>\n",
       "      <td>-122.433541</td>\n",
       "      <td>37.757007</td>\n",
       "      <td>13</td>\n",
       "      <td>11</td>\n",
       "      <td>2005</td>\n",
       "      <td>0.0</td>\n",
       "    </tr>\n",
       "    <tr>\n",
       "      <th>3</th>\n",
       "      <td>2012-02-24 05:03:00</td>\n",
       "      <td>ASSAULT</td>\n",
       "      <td>Friday</td>\n",
       "      <td>TENDERLOIN</td>\n",
       "      <td>HYDE ST / EDDY ST</td>\n",
       "      <td>-122.415885</td>\n",
       "      <td>37.783516</td>\n",
       "      <td>5</td>\n",
       "      <td>02</td>\n",
       "      <td>2012</td>\n",
       "      <td>0.0</td>\n",
       "    </tr>\n",
       "    <tr>\n",
       "      <th>4</th>\n",
       "      <td>2009-11-25 23:50:00</td>\n",
       "      <td>VANDALISM</td>\n",
       "      <td>Wednesday</td>\n",
       "      <td>BAYVIEW</td>\n",
       "      <td>3RD ST / WILLIAMS AV</td>\n",
       "      <td>-122.392625</td>\n",
       "      <td>37.729280</td>\n",
       "      <td>23</td>\n",
       "      <td>11</td>\n",
       "      <td>2009</td>\n",
       "      <td>3.0</td>\n",
       "    </tr>\n",
       "  </tbody>\n",
       "</table>\n",
       "</div>"
      ],
      "text/plain": [
       "                 Dates   Category  DayOfWeek  PdDistrict  \\\n",
       "0  2005-05-31 13:30:00    ASSAULT    Tuesday     MISSION   \n",
       "1  2011-05-22 22:00:00    ASSAULT     Sunday     TARAVAL   \n",
       "2  2005-11-14 13:00:00    ASSAULT     Monday     MISSION   \n",
       "3  2012-02-24 05:03:00    ASSAULT     Friday  TENDERLOIN   \n",
       "4  2009-11-25 23:50:00  VANDALISM  Wednesday     BAYVIEW   \n",
       "\n",
       "                      Address         Lng        Lat  Hour Month  Year  label  \n",
       "0     2300 Block of FOLSOM ST -122.414696  37.759686    13    05  2005    0.0  \n",
       "1  200 Block of SANTAPAULA AV -122.462827  37.736107    22    05  2011    0.0  \n",
       "2     500 Block of LIBERTY ST -122.433541  37.757007    13    11  2005    0.0  \n",
       "3           HYDE ST / EDDY ST -122.415885  37.783516     5    02  2012    0.0  \n",
       "4        3RD ST / WILLIAMS AV -122.392625  37.729280    23    11  2009    3.0  "
      ]
     },
     "execution_count": 25,
     "metadata": {},
     "output_type": "execute_result"
    }
   ],
   "source": [
    "from pyspark.ml.feature import StringIndexer\n",
    "labelIndexer = StringIndexer(inputCol = 'Category', outputCol = 'label')\n",
    "df_crimes_with_label = labelIndexer.fit(df_crimes).transform(df_crimes)\n",
    "df_crimes_with_label.limit(5).toPandas()"
   ]
  },
  {
   "cell_type": "markdown",
   "metadata": {},
   "source": [
    "### Split the dataset"
   ]
  },
  {
   "cell_type": "markdown",
   "metadata": {},
   "source": [
    "Q. Split the dataset: 80% training and 20% test "
   ]
  },
  {
   "cell_type": "code",
   "execution_count": 26,
   "metadata": {},
   "outputs": [],
   "source": [
    "df_train, df_test = df_crimes_with_label.randomSplit([0.8, 0.2])"
   ]
  },
  {
   "cell_type": "markdown",
   "metadata": {},
   "source": [
    "Q. Distribution of instances by label for the training set"
   ]
  },
  {
   "cell_type": "code",
   "execution_count": 27,
   "metadata": {},
   "outputs": [
    {
     "data": {
      "text/html": [
       "<div>\n",
       "<style scoped>\n",
       "    .dataframe tbody tr th:only-of-type {\n",
       "        vertical-align: middle;\n",
       "    }\n",
       "\n",
       "    .dataframe tbody tr th {\n",
       "        vertical-align: top;\n",
       "    }\n",
       "\n",
       "    .dataframe thead th {\n",
       "        text-align: right;\n",
       "    }\n",
       "</style>\n",
       "<table border=\"1\" class=\"dataframe\">\n",
       "  <thead>\n",
       "    <tr style=\"text-align: right;\">\n",
       "      <th></th>\n",
       "      <th>label</th>\n",
       "      <th>count</th>\n",
       "    </tr>\n",
       "  </thead>\n",
       "  <tbody>\n",
       "    <tr>\n",
       "      <th>0</th>\n",
       "      <td>0.0</td>\n",
       "      <td>0.334020</td>\n",
       "    </tr>\n",
       "    <tr>\n",
       "      <th>1</th>\n",
       "      <td>1.0</td>\n",
       "      <td>0.236659</td>\n",
       "    </tr>\n",
       "    <tr>\n",
       "      <th>2</th>\n",
       "      <td>3.0</td>\n",
       "      <td>0.195475</td>\n",
       "    </tr>\n",
       "    <tr>\n",
       "      <th>3</th>\n",
       "      <td>2.0</td>\n",
       "      <td>0.233846</td>\n",
       "    </tr>\n",
       "  </tbody>\n",
       "</table>\n",
       "</div>"
      ],
      "text/plain": [
       "   label     count\n",
       "0    0.0  0.334020\n",
       "1    1.0  0.236659\n",
       "2    3.0  0.195475\n",
       "3    2.0  0.233846"
      ]
     },
     "execution_count": 27,
     "metadata": {},
     "output_type": "execute_result"
    }
   ],
   "source": [
    "df_train.groupBy(\"label\").count().withColumn(\"count\", col(\"count\")/df_train.count()).toPandas()"
   ]
  },
  {
   "cell_type": "code",
   "execution_count": 28,
   "metadata": {},
   "outputs": [
    {
     "data": {
      "text/html": [
       "<div>\n",
       "<style scoped>\n",
       "    .dataframe tbody tr th:only-of-type {\n",
       "        vertical-align: middle;\n",
       "    }\n",
       "\n",
       "    .dataframe tbody tr th {\n",
       "        vertical-align: top;\n",
       "    }\n",
       "\n",
       "    .dataframe thead th {\n",
       "        text-align: right;\n",
       "    }\n",
       "</style>\n",
       "<table border=\"1\" class=\"dataframe\">\n",
       "  <thead>\n",
       "    <tr style=\"text-align: right;\">\n",
       "      <th></th>\n",
       "      <th>label</th>\n",
       "      <th>count</th>\n",
       "    </tr>\n",
       "  </thead>\n",
       "  <tbody>\n",
       "    <tr>\n",
       "      <th>0</th>\n",
       "      <td>0.0</td>\n",
       "      <td>0.338638</td>\n",
       "    </tr>\n",
       "    <tr>\n",
       "      <th>1</th>\n",
       "      <td>1.0</td>\n",
       "      <td>0.229983</td>\n",
       "    </tr>\n",
       "    <tr>\n",
       "      <th>2</th>\n",
       "      <td>3.0</td>\n",
       "      <td>0.194027</td>\n",
       "    </tr>\n",
       "    <tr>\n",
       "      <th>3</th>\n",
       "      <td>2.0</td>\n",
       "      <td>0.237351</td>\n",
       "    </tr>\n",
       "  </tbody>\n",
       "</table>\n",
       "</div>"
      ],
      "text/plain": [
       "   label     count\n",
       "0    0.0  0.338638\n",
       "1    1.0  0.229983\n",
       "2    3.0  0.194027\n",
       "3    2.0  0.237351"
      ]
     },
     "execution_count": 28,
     "metadata": {},
     "output_type": "execute_result"
    }
   ],
   "source": [
    "df_test.groupBy(\"label\").count().withColumn(\"count\", col(\"count\")/df_test.count()).toPandas()"
   ]
  },
  {
   "cell_type": "markdown",
   "metadata": {},
   "source": [
    "### Pre-Processing of the Data"
   ]
  },
  {
   "cell_type": "markdown",
   "metadata": {},
   "source": [
    "Q. Use an One Hot Enconding representation for  the categorial variable of the dataset. Hint: use StringIndexer and OneHotEncoder classes. For the categorical features: 'DayOfWeek', 'PdDistrict', 'Month', and 'Year'."
   ]
  },
  {
   "cell_type": "code",
   "execution_count": 29,
   "metadata": {},
   "outputs": [],
   "source": [
    "from pyspark.ml import Pipeline\n",
    "from pyspark.ml.feature import OneHotEncoder, StringIndexer\n",
    "\n",
    "# defining the categorical features\n",
    "# categorial_features = ['DayOfWeek', 'PdDistrict', 'Month', 'Year']\n",
    "\n",
    "# indexing string feature columns\n",
    "dayindexer = StringIndexer(inputCol = 'DayOfWeek', outputCol = 'dayofweekindex')\n",
    "monthindexer = StringIndexer(inputCol = 'Month', outputCol = 'monthindex')\n",
    "yearindexer = StringIndexer(inputCol = 'Year', outputCol = 'yearindex')\n",
    "districtindexer = StringIndexer(inputCol = 'PdDistrict', outputCol = 'districtindex')\n",
    "# addressindexer = StringIndexer(inputCol = 'Address', outputCol = 'addressindex')\n",
    "\n",
    "\n",
    "# converting indexed feature columns to One hot ecoded\n",
    "onehotecoded = OneHotEncoder(inputCols = ['dayofweekindex', 'monthindex', 'yearindex', 'districtindex'],\\\n",
    "                                      outputCols = ['dayofweekvect', 'monthvect', 'yearvect', 'districtvect'])\n",
    "\n",
    "\n",
    "# Stages of the pipeline\n",
    "stages = [dayindexer, monthindexer, yearindexer, districtindexer, onehotecoded]\n",
    "pipeline_oneHotEnconder = Pipeline(stages=stages)\n"
   ]
  },
  {
   "cell_type": "code",
   "execution_count": 30,
   "metadata": {},
   "outputs": [
    {
     "data": {
      "text/html": [
       "<div>\n",
       "<style scoped>\n",
       "    .dataframe tbody tr th:only-of-type {\n",
       "        vertical-align: middle;\n",
       "    }\n",
       "\n",
       "    .dataframe tbody tr th {\n",
       "        vertical-align: top;\n",
       "    }\n",
       "\n",
       "    .dataframe thead th {\n",
       "        text-align: right;\n",
       "    }\n",
       "</style>\n",
       "<table border=\"1\" class=\"dataframe\">\n",
       "  <thead>\n",
       "    <tr style=\"text-align: right;\">\n",
       "      <th></th>\n",
       "      <th>dayofweekvect</th>\n",
       "      <th>monthvect</th>\n",
       "      <th>yearvect</th>\n",
       "      <th>districtvect</th>\n",
       "    </tr>\n",
       "  </thead>\n",
       "  <tbody>\n",
       "    <tr>\n",
       "      <th>0</th>\n",
       "      <td>(0.0, 0.0, 0.0, 0.0, 0.0, 1.0)</td>\n",
       "      <td>(0.0, 0.0, 0.0, 0.0, 0.0, 0.0, 0.0, 1.0, 0.0, ...</td>\n",
       "      <td>(0.0, 0.0, 1.0, 0.0, 0.0, 0.0, 0.0, 0.0, 0.0, ...</td>\n",
       "      <td>(0.0, 0.0, 0.0, 0.0, 0.0, 1.0, 0.0, 0.0, 0.0)</td>\n",
       "    </tr>\n",
       "    <tr>\n",
       "      <th>1</th>\n",
       "      <td>(0.0, 0.0, 0.0, 0.0, 0.0, 1.0)</td>\n",
       "      <td>(0.0, 0.0, 0.0, 0.0, 0.0, 0.0, 0.0, 1.0, 0.0, ...</td>\n",
       "      <td>(0.0, 0.0, 1.0, 0.0, 0.0, 0.0, 0.0, 0.0, 0.0, ...</td>\n",
       "      <td>(1.0, 0.0, 0.0, 0.0, 0.0, 0.0, 0.0, 0.0, 0.0)</td>\n",
       "    </tr>\n",
       "    <tr>\n",
       "      <th>2</th>\n",
       "      <td>(0.0, 0.0, 0.0, 0.0, 0.0, 1.0)</td>\n",
       "      <td>(0.0, 0.0, 0.0, 0.0, 0.0, 0.0, 0.0, 1.0, 0.0, ...</td>\n",
       "      <td>(0.0, 0.0, 1.0, 0.0, 0.0, 0.0, 0.0, 0.0, 0.0, ...</td>\n",
       "      <td>(0.0, 0.0, 0.0, 0.0, 0.0, 0.0, 1.0, 0.0, 0.0)</td>\n",
       "    </tr>\n",
       "  </tbody>\n",
       "</table>\n",
       "</div>"
      ],
      "text/plain": [
       "                    dayofweekvect  \\\n",
       "0  (0.0, 0.0, 0.0, 0.0, 0.0, 1.0)   \n",
       "1  (0.0, 0.0, 0.0, 0.0, 0.0, 1.0)   \n",
       "2  (0.0, 0.0, 0.0, 0.0, 0.0, 1.0)   \n",
       "\n",
       "                                           monthvect  \\\n",
       "0  (0.0, 0.0, 0.0, 0.0, 0.0, 0.0, 0.0, 1.0, 0.0, ...   \n",
       "1  (0.0, 0.0, 0.0, 0.0, 0.0, 0.0, 0.0, 1.0, 0.0, ...   \n",
       "2  (0.0, 0.0, 0.0, 0.0, 0.0, 0.0, 0.0, 1.0, 0.0, ...   \n",
       "\n",
       "                                            yearvect  \\\n",
       "0  (0.0, 0.0, 1.0, 0.0, 0.0, 0.0, 0.0, 0.0, 0.0, ...   \n",
       "1  (0.0, 0.0, 1.0, 0.0, 0.0, 0.0, 0.0, 0.0, 0.0, ...   \n",
       "2  (0.0, 0.0, 1.0, 0.0, 0.0, 0.0, 0.0, 0.0, 0.0, ...   \n",
       "\n",
       "                                    districtvect  \n",
       "0  (0.0, 0.0, 0.0, 0.0, 0.0, 1.0, 0.0, 0.0, 0.0)  \n",
       "1  (1.0, 0.0, 0.0, 0.0, 0.0, 0.0, 0.0, 0.0, 0.0)  \n",
       "2  (0.0, 0.0, 0.0, 0.0, 0.0, 0.0, 1.0, 0.0, 0.0)  "
      ]
     },
     "execution_count": 30,
     "metadata": {},
     "output_type": "execute_result"
    }
   ],
   "source": [
    "# when applying the pipeline\n",
    "pipeline_oneHotEnconder.fit(df_train) \\\n",
    "    .transform(df_train) \\\n",
    "    .toPandas()[[\"dayofweekvect\", \"monthvect\", \"yearvect\", \"districtvect\"]][:3]"
   ]
  },
  {
   "cell_type": "markdown",
   "metadata": {},
   "source": [
    "Q. Run the following code."
   ]
  },
  {
   "cell_type": "code",
   "execution_count": 31,
   "metadata": {},
   "outputs": [],
   "source": [
    "from pyspark.ml.feature import MinMaxScaler, VectorAssembler\n",
    "\n",
    "# the selected features\n",
    "features = ['Lng', 'Lat', 'Hour', 'dayofweekvect', 'monthvect', 'yearvect', 'districtvect'] #  \"addressvect\"\n",
    "\n",
    "#converting the features columns to 1 feature column using VectorAssembler\n",
    "vectorassembler = VectorAssembler(inputCols = features, outputCol= 'assemblerfeatures')\n",
    "\n",
    "#Scaling the vector assembler result before starting the model training\n",
    "featurescaler = MinMaxScaler(inputCol = 'assemblerfeatures', outputCol = 'features')"
   ]
  },
  {
   "cell_type": "markdown",
   "metadata": {},
   "source": [
    "Q. Chain indexers, encoder, assembler, and scalar in a Feats Preprocessing Pipeline"
   ]
  },
  {
   "cell_type": "code",
   "execution_count": 32,
   "metadata": {},
   "outputs": [],
   "source": [
    "# Chain indexers, encoder, assembler, scalar in a Pipeline\n",
    "pipeline_feats_preprocessing = Pipeline(stages=[pipeline_oneHotEnconder, vectorassembler, featurescaler]) \n"
   ]
  },
  {
   "cell_type": "markdown",
   "metadata": {},
   "source": [
    "Q. Preprocess the training samples and apply the same pipeline model to the test set"
   ]
  },
  {
   "cell_type": "code",
   "execution_count": 33,
   "metadata": {},
   "outputs": [],
   "source": [
    "model_preprossing = pipeline_feats_preprocessing.fit(df_train) \n",
    "X_y_train = model_preprossing.transform(df_train) \n",
    "X_y_test = model_preprossing.transform(df_test) \n"
   ]
  },
  {
   "cell_type": "code",
   "execution_count": 34,
   "metadata": {},
   "outputs": [
    {
     "data": {
      "text/html": [
       "<div>\n",
       "<style scoped>\n",
       "    .dataframe tbody tr th:only-of-type {\n",
       "        vertical-align: middle;\n",
       "    }\n",
       "\n",
       "    .dataframe tbody tr th {\n",
       "        vertical-align: top;\n",
       "    }\n",
       "\n",
       "    .dataframe thead th {\n",
       "        text-align: right;\n",
       "    }\n",
       "</style>\n",
       "<table border=\"1\" class=\"dataframe\">\n",
       "  <thead>\n",
       "    <tr style=\"text-align: right;\">\n",
       "      <th></th>\n",
       "      <th>features</th>\n",
       "      <th>label</th>\n",
       "    </tr>\n",
       "  </thead>\n",
       "  <tbody>\n",
       "    <tr>\n",
       "      <th>0</th>\n",
       "      <td>(0.04094610055839087, 0.001141189686376337, 0....</td>\n",
       "      <td>3.0</td>\n",
       "    </tr>\n",
       "    <tr>\n",
       "      <th>1</th>\n",
       "      <td>(0.049325651339257044, 0.00137734906671431, 0....</td>\n",
       "      <td>3.0</td>\n",
       "    </tr>\n",
       "  </tbody>\n",
       "</table>\n",
       "</div>"
      ],
      "text/plain": [
       "                                            features  label\n",
       "0  (0.04094610055839087, 0.001141189686376337, 0....    3.0\n",
       "1  (0.049325651339257044, 0.00137734906671431, 0....    3.0"
      ]
     },
     "execution_count": 34,
     "metadata": {},
     "output_type": "execute_result"
    }
   ],
   "source": [
    "X_y_train.select(\"features\", \"label\").limit(2).toPandas()"
   ]
  },
  {
   "cell_type": "code",
   "execution_count": 35,
   "metadata": {},
   "outputs": [
    {
     "data": {
      "text/html": [
       "<div>\n",
       "<style scoped>\n",
       "    .dataframe tbody tr th:only-of-type {\n",
       "        vertical-align: middle;\n",
       "    }\n",
       "\n",
       "    .dataframe tbody tr th {\n",
       "        vertical-align: top;\n",
       "    }\n",
       "\n",
       "    .dataframe thead th {\n",
       "        text-align: right;\n",
       "    }\n",
       "</style>\n",
       "<table border=\"1\" class=\"dataframe\">\n",
       "  <thead>\n",
       "    <tr style=\"text-align: right;\">\n",
       "      <th></th>\n",
       "      <th>features</th>\n",
       "      <th>label</th>\n",
       "    </tr>\n",
       "  </thead>\n",
       "  <tbody>\n",
       "    <tr>\n",
       "      <th>0</th>\n",
       "      <td>(0.023283214002146387, 0.00040665091204911743,...</td>\n",
       "      <td>0.0</td>\n",
       "    </tr>\n",
       "    <tr>\n",
       "      <th>1</th>\n",
       "      <td>(0.062359428317183184, 0.00044031372410362104,...</td>\n",
       "      <td>2.0</td>\n",
       "    </tr>\n",
       "  </tbody>\n",
       "</table>\n",
       "</div>"
      ],
      "text/plain": [
       "                                            features  label\n",
       "0  (0.023283214002146387, 0.00040665091204911743,...    0.0\n",
       "1  (0.062359428317183184, 0.00044031372410362104,...    2.0"
      ]
     },
     "execution_count": 35,
     "metadata": {},
     "output_type": "execute_result"
    }
   ],
   "source": [
    "X_y_test.select(\"features\", \"label\").limit(2).toPandas()"
   ]
  },
  {
   "cell_type": "markdown",
   "metadata": {},
   "source": [
    "### Trainning and Predictions"
   ]
  },
  {
   "cell_type": "markdown",
   "metadata": {},
   "source": [
    "Q. Train two instances of the Random Forest Classifier with: 20 and 30 trees"
   ]
  },
  {
   "cell_type": "code",
   "execution_count": 36,
   "metadata": {},
   "outputs": [],
   "source": [
    "from pyspark.ml.classification import LogisticRegression, RandomForestClassifier, DecisionTreeClassifier\n",
    "from pyspark.ml.evaluation import MulticlassClassificationEvaluator\n",
    "\n",
    "# train model numTrees=10.\n",
    "rf_n20 = RandomForestClassifier(labelCol=\"label\", featuresCol=\"features\", numTrees=20)\n",
    "model_rf_n20 = rf_n20.fit(X_y_train)\n",
    "\n",
    "# train model  numTrees=50\n",
    "rf_n30 = RandomForestClassifier(labelCol=\"label\", featuresCol=\"features\", numTrees=30)\n",
    "model_rf_n30 = rf_n30.fit(X_y_train)"
   ]
  },
  {
   "cell_type": "code",
   "execution_count": 1,
   "metadata": {},
   "outputs": [
    {
     "ename": "NameError",
     "evalue": "name 'model_rf_n20' is not defined",
     "output_type": "error",
     "traceback": [
      "\u001b[0;31m---------------------------------------------------------------------------\u001b[0m",
      "\u001b[0;31mNameError\u001b[0m                                 Traceback (most recent call last)",
      "\u001b[0;32m<ipython-input-1-4e34392f0150>\u001b[0m in \u001b[0;36m<module>\u001b[0;34m\u001b[0m\n\u001b[1;32m      1\u001b[0m \u001b[0;31m# models prediction\u001b[0m\u001b[0;34m\u001b[0m\u001b[0;34m\u001b[0m\u001b[0;34m\u001b[0m\u001b[0m\n\u001b[0;32m----> 2\u001b[0;31m \u001b[0mpred_rf_n20\u001b[0m \u001b[0;34m=\u001b[0m \u001b[0mmodel_rf_n20\u001b[0m\u001b[0;34m.\u001b[0m\u001b[0mtransform\u001b[0m\u001b[0;34m(\u001b[0m\u001b[0mX_y_test\u001b[0m\u001b[0;34m)\u001b[0m\u001b[0;34m\u001b[0m\u001b[0;34m\u001b[0m\u001b[0m\n\u001b[0m\u001b[1;32m      3\u001b[0m \u001b[0;34m\u001b[0m\u001b[0m\n\u001b[1;32m      4\u001b[0m \u001b[0mpred_rf_n30\u001b[0m \u001b[0;34m=\u001b[0m \u001b[0mmodel_rf_n30\u001b[0m\u001b[0;34m.\u001b[0m\u001b[0mtransform\u001b[0m\u001b[0;34m(\u001b[0m\u001b[0mX_y_test\u001b[0m\u001b[0;34m)\u001b[0m\u001b[0;34m\u001b[0m\u001b[0;34m\u001b[0m\u001b[0m\n\u001b[1;32m      5\u001b[0m \u001b[0mpred_rf_n30\u001b[0m\u001b[0;34m.\u001b[0m\u001b[0mlimit\u001b[0m\u001b[0;34m(\u001b[0m\u001b[0;36m30\u001b[0m\u001b[0;34m)\u001b[0m\u001b[0;34m.\u001b[0m\u001b[0mtoPandas\u001b[0m\u001b[0;34m(\u001b[0m\u001b[0;34m)\u001b[0m\u001b[0;34m\u001b[0m\u001b[0;34m\u001b[0m\u001b[0m\n",
      "\u001b[0;31mNameError\u001b[0m: name 'model_rf_n20' is not defined"
     ]
    }
   ],
   "source": [
    "# models prediction \n",
    "pred_rf_n20 = model_rf_n20.transform(X_y_test)\n",
    "\n",
    "pred_rf_n30 = model_rf_n30.transform(X_y_test)\n",
    "pred_rf_n30.limit(30).toPandas()"
   ]
  },
  {
   "cell_type": "markdown",
   "metadata": {},
   "source": [
    "Q. Compute the Accuracy and F1-score of the models"
   ]
  },
  {
   "cell_type": "code",
   "execution_count": 38,
   "metadata": {},
   "outputs": [
    {
     "name": "stdout",
     "output_type": "stream",
     "text": [
      "rf_n20 f1 0.37221012786139107\n",
      "rf_n30 f1 0.3557247882018079\n",
      "rf_n20 acc 0.4288240495137047\n",
      "rf_n30 acc 0.4168385892523824\n"
     ]
    }
   ],
   "source": [
    "# evaluate the model \n",
    "\n",
    "eval_f1 = MulticlassClassificationEvaluator(predictionCol='prediction', labelCol='label', metricName='f1')\n",
    "print(\"rf_n20\", \"f1\", eval_f1.evaluate(pred_rf_n20))\n",
    "print(\"rf_n30\", \"f1\", eval_f1.evaluate(pred_rf_n30))\n",
    "\n",
    "eval_acc = MulticlassClassificationEvaluator(predictionCol='prediction', labelCol='label', metricName='accuracy')\n",
    "print(\"rf_n20\", \"acc\", eval_acc.evaluate(pred_rf_n20))\n",
    "print(\"rf_n30\", \"acc\", eval_acc.evaluate(pred_rf_n30))\n"
   ]
  },
  {
   "cell_type": "markdown",
   "metadata": {},
   "source": [
    "Extras:\n",
    "* Improve the accuracy by fine tuning the hyperparameters of the model.\n",
    "* Use other machine learning algorithms.\n",
    "* Use the address as a feature to feed the machine learning models. Check if it improves the model."
   ]
  },
  {
   "cell_type": "code",
   "execution_count": null,
   "metadata": {},
   "outputs": [],
   "source": []
  }
 ],
 "metadata": {
  "kernelspec": {
   "display_name": "Python 3",
   "language": "python",
   "name": "python3"
  },
  "language_info": {
   "codemirror_mode": {
    "name": "ipython",
    "version": 3
   },
   "file_extension": ".py",
   "mimetype": "text/x-python",
   "name": "python",
   "nbconvert_exporter": "python",
   "pygments_lexer": "ipython3",
   "version": "3.8.10"
  },
  "name": "Project",
  "notebookId": 3985452199941918
 },
 "nbformat": 4,
 "nbformat_minor": 1
}
